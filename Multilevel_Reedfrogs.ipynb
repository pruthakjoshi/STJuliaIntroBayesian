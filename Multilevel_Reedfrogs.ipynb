{
 "cells": [
  {
   "cell_type": "code",
   "execution_count": null,
   "id": "3820d725-7fb0-4df1-9a76-99ab1d6693c9",
   "metadata": {},
   "outputs": [],
   "source": [
    "using Turing\n",
    "using DataFrames\n",
    "using CSV\n",
    "using Distributions\n",
    "using StatsFuns\n",
    "using StatsPlots\n",
    "using StatsBase\n",
    "using Random\n",
    "\n",
    "default(label=false);"
   ]
  },
  {
   "cell_type": "code",
   "execution_count": null,
   "id": "2264bc32-bbd7-4ff0-b882-0c6d0098ecac",
   "metadata": {},
   "outputs": [],
   "source": [
    "d = DataFrame(CSV.File(\"data/reedfrogs.csv\"))\n",
    "describe(d)\n",
    "\n",
    "d.tank = 1:nrow(d)\n",
    "d\n"
   ]
  },
  {
   "cell_type": "markdown",
   "id": "79be7548-175e-40c3-97f7-61abc5b542a1",
   "metadata": {},
   "source": [
    "## Conventional single-level model"
   ]
  },
  {
   "cell_type": "code",
   "execution_count": null,
   "id": "2ad40975-415a-4ef4-9584-0c53992301f6",
   "metadata": {},
   "outputs": [],
   "source": [
    "@model function frog_single_level(S, N, tank)\n",
    "\n",
    "    a ~ filldist(Normal(0, 1.5), length(tank))  # offsets are defined for each tank\n",
    "    p = logistic.(a)  # probability of survival or proportional survival\n",
    "    S .~ Binomial.(N, p)\n",
    "\n",
    "end"
   ]
  },
  {
   "cell_type": "code",
   "execution_count": null,
   "id": "aa8d4e41-ec9d-4308-be95-f099c005f642",
   "metadata": {},
   "outputs": [],
   "source": [
    "Random.seed!(1)\n",
    "frog_single_level_ch = sample(frog_single_level(d.surv, d.density, d.tank), NUTS(200, 0.65, init_ϵ=0.5), 1000)\n",
    "frog_single_level_df = DataFrame(frog_single_level_ch);"
   ]
  },
  {
   "cell_type": "markdown",
   "id": "5fd767a9-2b46-4416-9ef1-521741ef564b",
   "metadata": {},
   "source": [
    "## Multilevel model"
   ]
  },
  {
   "cell_type": "code",
   "execution_count": null,
   "id": "55e9d8d4-228f-4248-a5ca-afe318e7e0d3",
   "metadata": {},
   "outputs": [],
   "source": [
    "@model function frog_multi_level(S, N, tank)\n",
    "\n",
    "    σ ~ Exponential()\n",
    "    ā ~ Normal(0, 1.5)\n",
    "\n",
    "    a ~ filldist(Normal(ā, σ), length(tank))\n",
    "    p = logistic.(a)\n",
    "    S .~ Binomial.(N, p)\n",
    "\n",
    "end"
   ]
  },
  {
   "cell_type": "code",
   "execution_count": null,
   "id": "404b8747-a56d-4616-ae50-e806963cbf12",
   "metadata": {},
   "outputs": [],
   "source": [
    "Random.seed!(1)\n",
    "frog_multi_level_ch = sample(frog_multi_level(d.surv, d.density, d.tank), NUTS(200, 0.65, init_ϵ=0.2), 1000)\n",
    "frog_multi_level_df = DataFrame(frog_multi_level_ch);"
   ]
  },
  {
   "cell_type": "code",
   "execution_count": null,
   "id": "8d2e2437-adc3-4a0f-b047-4e6f0a1a165c",
   "metadata": {},
   "outputs": [],
   "source": [
    "link_fun = (chain_df, dr) -> begin\n",
    "    a = chain_df[:,\"a[$(dr.tank)]\"]\n",
    "    p = logistic.(a)\n",
    "    binomlogpdf.(dr.density, p, dr.surv)\n",
    "end"
   ]
  },
  {
   "cell_type": "code",
   "execution_count": null,
   "id": "359053c4-4dec-4e6e-b73b-1b9d08334b47",
   "metadata": {},
   "outputs": [],
   "source": [
    "single_level_surival = map( dr -> link_fun(frog_single_level_df, dr), eachrow(d) )\n",
    "single_level_surival = hcat(single_level_surival...)\n",
    "\n",
    "multi_level_survival = map( dr -> link_fun(frog_multi_level_df, dr), eachrow(d) )\n",
    "multi_level_survival = hcat(multi_level_survival...);\n"
   ]
  },
  {
   "cell_type": "code",
   "execution_count": null,
   "id": "b1e7b246-de94-4dae-96f3-61acedcbfb0d",
   "metadata": {},
   "outputs": [],
   "source": [
    "# sample 10_000 samples again\n",
    "\n",
    "post = sample(frog_multi_level_ch, 10000)\n",
    "post_df = DataFrame(post)\n",
    "\n",
    "propsurv_est = [\n",
    "    logistic(mean(post_df[:,\"a[$i]\"]))\n",
    "    for i ∈ 1:nrow(d)\n",
    "]"
   ]
  },
  {
   "cell_type": "code",
   "execution_count": null,
   "id": "fd8efe42-bed7-409d-bfee-ef5a8e0c7384",
   "metadata": {},
   "outputs": [],
   "source": [
    "scatter(propsurv_est, mc=:white, label=\"model\", legend=:topright, xlab=\"tank\", ylab=\"proportion survival\", ylim=(-0.05, 1.05))\n"
   ]
  },
  {
   "cell_type": "code",
   "execution_count": null,
   "id": "d3b1a80f-450d-4f24-9009-c1e441d5a2c5",
   "metadata": {},
   "outputs": [],
   "source": [
    "scatter!(d.propsurv, mc=:blue, ms=3, label=\"data\")\n",
    "hline!([mean(logistic.(post_df.ā))], ls=:dash, c=:black)\n",
    "vline!([16.5, 32.5], c=:black)\n",
    "annotate!([\n",
    "        (8, 0, (\"small tanks\", 10)),\n",
    "        (16+8, 0, (\"medium tanks\", 10)),\n",
    "        (32+8, 0, (\"large tanks\", 10))\n",
    "])\n"
   ]
  },
  {
   "cell_type": "code",
   "execution_count": null,
   "id": "b591a7df-4bef-469c-8e7a-ef029425d68a",
   "metadata": {},
   "outputs": [],
   "source": [
    "p1 = plot(xlim=(-3, 4), xlab=\"Log-odds survival\", ylab=\"Density\");\n",
    "for r ∈ first(eachrow(post_df), 100)\n",
    "    plot!(Normal(r.ā, r.σ), c=:black, alpha=0.2)\n",
    "end\n",
    "p1\n"
   ]
  },
  {
   "cell_type": "code",
   "execution_count": null,
   "id": "c74c78ec-5707-44b4-bd02-feba621c51cf",
   "metadata": {},
   "outputs": [],
   "source": [
    "sim_tanks = @. rand(Normal(post_df.ā[1:8000], post_df.σ[1:8000]));\n",
    "p2 = plot(xlab=\"Probability survival\", ylab=\"Density\", xlim=(-0.1, 1.1));\n",
    "density!(logistic.(sim_tanks), lw=2)\n",
    "\n",
    "plot(p1, p2, size=(800, 400))\n"
   ]
  },
  {
   "cell_type": "code",
   "execution_count": null,
   "id": "40c2fb61-37e7-4f05-b8af-3075cb295799",
   "metadata": {},
   "outputs": [],
   "source": [
    "## Varying effects and the underfitting/overfitting trade-off\n",
    "# Generate a mock data to test the models\n",
    "\n",
    "ā = 1.5\n",
    "σ = 1.5\n",
    "nponds = 60\n",
    "Ni = repeat([3, 10, 25, 35], inner=15);\n",
    "\n",
    "a_pond = rand(Normal(ā, σ), nponds);    # mock \"true\" data\n",
    "\n",
    "dsim = DataFrame(pond=1:nponds, Ni=Ni, true_a=a_pond);\n",
    "dsim.p_true = logistic.(dsim.true_a);\n",
    "\n",
    "Random.seed!(1)\n",
    "dsim.Si = @. rand(Binomial(dsim.Ni, dsim.p_true));"
   ]
  },
  {
   "cell_type": "code",
   "execution_count": null,
   "id": "4ee57835-e716-4c8c-ab05-eb4dce426de1",
   "metadata": {},
   "outputs": [],
   "source": [
    "# no pooling (treat each pond separately)\n",
    "dsim.p_nopool = dsim.Si ./ dsim.Ni;\n"
   ]
  },
  {
   "cell_type": "code",
   "execution_count": null,
   "id": "609c2265-41d4-4d5e-9b6e-77cb4b0a0b1e",
   "metadata": {},
   "outputs": [],
   "source": [
    "# partial pooling using the multi-level model\n",
    "@model function pond_multi_level(Si, Ni) #, pond)\n",
    "\n",
    "    σ ~ Exponential()\n",
    "    ā ~ Normal(0, 1.5)\n",
    "    a_pond ~ filldist(Normal(ā, σ), length(Ni))\n",
    "    p = logistic.(a_pond)\n",
    "    @. Si ~ Binomial(Ni, p)\n",
    "\n",
    "end"
   ]
  },
  {
   "cell_type": "code",
   "execution_count": null,
   "id": "2b18ea27-d278-4725-843a-5eb482538204",
   "metadata": {},
   "outputs": [],
   "source": [
    "Random.seed!(1)\n",
    "pond_multi_level_ch = sample(pond_multi_level(dsim.Si, dsim.Ni), NUTS(), 1000)\n",
    "pond_multi_level_df = DataFrame(pond_multi_level_ch);\n"
   ]
  },
  {
   "cell_type": "code",
   "execution_count": null,
   "id": "8621b7e9-2753-4676-854a-b115fbb1a377",
   "metadata": {},
   "outputs": [],
   "source": [
    "dsim.p_partpool = [\n",
    "    mean(logistic.(pond_multi_level_df[:,\"a_pond[$i]\"]))\n",
    "    for i ∈ 1:nponds\n",
    "];"
   ]
  },
  {
   "cell_type": "code",
   "execution_count": null,
   "id": "6f6c037d-6a1d-422a-bc60-755441c606c7",
   "metadata": {},
   "outputs": [],
   "source": [
    "nopool_error = @. abs(dsim.p_nopool - dsim.p_true)\n",
    "partpool_error = @. abs(dsim.p_partpool - dsim.p_true);\n",
    "\n",
    "plt = scatter(nopool_error, xlab=\"pond\", ylab=\"absolute error\", label = \"no pooling\")\n",
    "scatter!(partpool_error, mc=:white, label = \"partial pooling\")"
   ]
  },
  {
   "cell_type": "code",
   "execution_count": null,
   "id": "3e167fdc-3122-48fc-a01c-dd6c2869c9f9",
   "metadata": {},
   "outputs": [],
   "source": [
    "dsim.nopool_error = nopool_error\n",
    "dsim.partpool_error = partpool_error"
   ]
  },
  {
   "cell_type": "code",
   "execution_count": null,
   "id": "94a5915f-a7c2-4fc7-bad9-ff1527b7ac2a",
   "metadata": {},
   "outputs": [],
   "source": [
    "# group results according to the number of tadpoles\n",
    "gb = groupby(dsim, :Ni)\n",
    "pools = combine(gb, :nopool_error => mean, :partpool_error => mean, :pond => minimum, :pond => maximum)\n",
    "\n",
    "nopool_mean = pools.nopool_error_mean\n",
    "partpool_mean = pools.partpool_error_mean\n",
    "\n",
    "pond_min = pools.pond_minimum # ranges of pond numbers with the same numbers of tadpoles\n",
    "pond_max = pools.pond_maximum"
   ]
  },
  {
   "cell_type": "code",
   "execution_count": null,
   "id": "ce552ff8-7b8e-4150-b9f4-3f279098c6f5",
   "metadata": {},
   "outputs": [],
   "source": [
    "for i in 1:length(pond_min)\n",
    "    plot!([pond_min[i],pond_max[i]],[nopool_mean[i],nopool_mean[i]])\n",
    "end\n",
    "\n",
    "for i in 1:length(pond_min)\n",
    "    plot!([pond_min[i],pond_max[i]],[partpool_mean[i],partpool_mean[i]], line=:dash)\n",
    "end\n",
    "\n",
    "plt"
   ]
  },
  {
   "cell_type": "code",
   "execution_count": null,
   "id": "74d0e9bb-ada4-4cd4-a652-4997750db4ba",
   "metadata": {},
   "outputs": [],
   "source": []
  }
 ],
 "metadata": {
  "kernelspec": {
   "display_name": "Julia 1.10.2",
   "language": "julia",
   "name": "julia-1.10"
  },
  "language_info": {
   "file_extension": ".jl",
   "mimetype": "application/julia",
   "name": "julia",
   "version": "1.10.2"
  }
 },
 "nbformat": 4,
 "nbformat_minor": 5
}
