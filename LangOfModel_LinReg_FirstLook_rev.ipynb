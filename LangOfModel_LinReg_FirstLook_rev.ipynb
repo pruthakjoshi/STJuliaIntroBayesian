{
 "cells": [
  {
   "cell_type": "code",
   "execution_count": null,
   "id": "c096dd28-4b68-45fd-9ef3-8b58455d9989",
   "metadata": {
    "editable": true,
    "slideshow": {
     "slide_type": ""
    },
    "tags": []
   },
   "outputs": [],
   "source": [
    "using Distributions\n",
    "using StatsPlots\n",
    "using StatsBase\n",
    "using CSV\n",
    "using DataFrames\n",
    "using LinearAlgebra\n",
    "using Random\n",
    "using Turing"
   ]
  },
  {
   "cell_type": "code",
   "execution_count": null,
   "id": "6dbd1599-4cd0-4538-b719-c9cb9546196b",
   "metadata": {},
   "outputs": [],
   "source": [
    "# helper function for getting probability/credibility interval\n",
    "CI(d; p = 0.95) = [quantile(d, (1-p)/2), quantile(d, (1+p)/2)]"
   ]
  },
  {
   "cell_type": "code",
   "execution_count": null,
   "id": "27c5fdde-5322-41df-9b2c-0a0d210f8a9b",
   "metadata": {},
   "outputs": [],
   "source": [
    "d = DataFrame(CSV.File(\"data/Howell1.csv\"));\n",
    "d2 = d[d.age .>= 18,:];  # select only those data from adults"
   ]
  },
  {
   "cell_type": "code",
   "execution_count": null,
   "id": "0f4316ea-10eb-4466-90ab-801b062b373d",
   "metadata": {
    "scrolled": true
   },
   "outputs": [],
   "source": [
    "d2"
   ]
  },
  {
   "cell_type": "code",
   "execution_count": null,
   "id": "0a8869d8-f07f-4450-a9dd-43aea426d07e",
   "metadata": {},
   "outputs": [],
   "source": [
    "describe(d2)"
   ]
  },
  {
   "cell_type": "code",
   "execution_count": null,
   "id": "03ba1b71-5f9f-4490-9bcf-6d57f5800ac9",
   "metadata": {},
   "outputs": [],
   "source": [
    "scatter(d2.weight, d2.height, xlabel=\"weight\", ylabel=\"hegiht\", legend=false)"
   ]
  },
  {
   "cell_type": "code",
   "execution_count": null,
   "id": "4f605cab-81cb-4581-b026-420d46d70cd2",
   "metadata": {},
   "outputs": [],
   "source": [
    "x̄ = mean(d2.weight)"
   ]
  },
  {
   "cell_type": "code",
   "execution_count": null,
   "id": "4c255d31-9b77-498b-8c7b-4b58733d9a66",
   "metadata": {},
   "outputs": [],
   "source": [
    "h̄ = mean(d2.height)"
   ]
  },
  {
   "cell_type": "code",
   "execution_count": null,
   "id": "c841ebcf-86ee-443f-8161-4b79726eec5c",
   "metadata": {},
   "outputs": [],
   "source": [
    "xlims = extrema(d2.weight)  # getting min and max in one pass for later plotting purposes\n",
    "ylims = extrema(d2.height)"
   ]
  },
  {
   "cell_type": "code",
   "execution_count": null,
   "id": "3092a43f-7784-4c1a-b184-137ea84bb48d",
   "metadata": {},
   "outputs": [],
   "source": [
    "p = hline([0, 272]; ylims=(-100, 400), xlabel=\"weight\", ylabel=\"hegiht\")\n",
    "scatter!(d2.weight, d2.height)"
   ]
  },
  {
   "cell_type": "code",
   "execution_count": null,
   "id": "3c36d120-73a2-431d-a6ff-1235b262c20c",
   "metadata": {},
   "outputs": [],
   "source": [
    "# see what the normal distributions for α and β give\n",
    "Random.seed!(2971)\n",
    "N = 100\n",
    "α = rand(Normal(178, 20), N);\n",
    "β = rand(Normal(0, 10), N);"
   ]
  },
  {
   "cell_type": "code",
   "execution_count": null,
   "id": "505d8754-f3a5-4a97-b95d-46b387b6a9f8",
   "metadata": {},
   "outputs": [],
   "source": [
    "for (α_, β_) ∈ zip(α, β)\n",
    "    plot!(x -> α_ + β_ * (x - x̄); xlims=xlims, c=:black, alpha=0.3, legend=false)\n",
    "end\n",
    "title!(\"β ~ Normal(μ = 0, σ = 10)\")\n",
    "display(p)"
   ]
  },
  {
   "cell_type": "code",
   "execution_count": null,
   "id": "5941cf18-f682-44aa-91ca-f0a124562ff4",
   "metadata": {},
   "outputs": [],
   "source": [
    "β = rand(LogNormal(0, 1), 10_000)\n",
    "density(β, xlims=(0, 5), bandwidth=0.01)"
   ]
  },
  {
   "cell_type": "code",
   "execution_count": null,
   "id": "2af6634a-f6da-413b-b96e-d64a54fac04f",
   "metadata": {},
   "outputs": [],
   "source": [
    "# see what the log-normal distribution for β gives\n",
    "\n",
    "p = hline([0, 272]; ylims=(-100, 400), xlabel=\"weight\", ylabel=\"hegiht\")\n",
    "\n",
    "title!(\"β ~ LogNormal(μ = 0, σ = 1)\")\n",
    "\n",
    "for (α_, β_) ∈ zip(α, β)\n",
    "  plot!(x -> α_ + β_ * (x - x̄); xlims=xlims, c=:black, alpha=0.3, legend=false)\n",
    "end\n",
    "\n",
    "scatter!(d2.weight, d2.height)\n",
    "\n",
    "display(p)\n"
   ]
  },
  {
   "cell_type": "code",
   "execution_count": null,
   "id": "9a6844c9-92b8-43ee-86dd-e8569e651696",
   "metadata": {},
   "outputs": [],
   "source": [
    "# define our Bayesian statistics model for linear regression\n",
    "@model function height_regr_model(weight, height)\n",
    "    \n",
    "    α ~ Normal(178, 20)\n",
    "    β ~ LogNormal(0, 1)\n",
    "    σ ~ Uniform(0, 50)\n",
    "  \n",
    "    for i in 1:length(weight)\n",
    "        height[i] ~ Normal(α + β * (weight[i] - x̄), σ)\n",
    "    end\n",
    "\n",
    "    #μ = α .+ β * (weight .- x̄)\n",
    "    #height ~ MvNormal(μ, σ)\n",
    "\n",
    "end"
   ]
  },
  {
   "cell_type": "code",
   "execution_count": null,
   "id": "530396fb-fbba-411f-9006-05519d2d3934",
   "metadata": {},
   "outputs": [],
   "source": [
    "m = sample(height_regr_model(d2.weight, d2.height), NUTS(), 1000);"
   ]
  },
  {
   "cell_type": "code",
   "execution_count": null,
   "id": "6b1143c1-d87b-49b9-aa2b-97a7dbe7bc20",
   "metadata": {},
   "outputs": [],
   "source": [
    "# now take 1000 samples from the posterior distribution obtained from the MC method\n",
    "samples = sample(m, 1000);"
   ]
  },
  {
   "cell_type": "code",
   "execution_count": null,
   "id": "48f07b6f-e277-4422-bbf3-739190a66e2f",
   "metadata": {},
   "outputs": [],
   "source": [
    "DataFrame(samples)"
   ]
  },
  {
   "cell_type": "code",
   "execution_count": null,
   "id": "efba67a2-aabf-4a06-8c07-cabe0ea6cd4d",
   "metadata": {},
   "outputs": [],
   "source": [
    "plot(samples)"
   ]
  },
  {
   "cell_type": "code",
   "execution_count": null,
   "id": "d6f93d0c-0254-4547-907f-741dc625ca60",
   "metadata": {},
   "outputs": [],
   "source": [
    "# Use the mean values of α and β to plot the \"best\" fit line\n",
    "α_mean = mean(samples[:α])\n"
   ]
  },
  {
   "cell_type": "code",
   "execution_count": null,
   "id": "2f9b9537-b2ce-4c33-be92-0f4aa1d4ba75",
   "metadata": {},
   "outputs": [],
   "source": [
    "β_mean = mean(samples[:β])"
   ]
  },
  {
   "cell_type": "code",
   "execution_count": null,
   "id": "e48005ff-3d71-47b2-89f4-bfaf49561a6c",
   "metadata": {},
   "outputs": [],
   "source": [
    "scatter(d2.weight, d2.height; alpha=0.3)\n",
    "plot!(x -> α_mean + β_mean*(x-x̄))"
   ]
  },
  {
   "cell_type": "code",
   "execution_count": null,
   "id": "7d6939de-7b95-4f66-8e24-cfb80f6bb98f",
   "metadata": {},
   "outputs": [],
   "source": [
    "# Let's reduce the sample size to 10 to explore posterior distributions of α and β\n",
    "N = 10\n",
    "dN = d2[1:N,:]"
   ]
  },
  {
   "cell_type": "code",
   "execution_count": null,
   "id": "7dd1a5b7-72b8-403d-9bc7-ee9120bfb195",
   "metadata": {},
   "outputs": [],
   "source": [
    "x̄N = mean(dN.weight)"
   ]
  },
  {
   "cell_type": "code",
   "execution_count": null,
   "id": "16e5c2c5-5e4a-46be-a7d0-b34a6a7fdacd",
   "metadata": {},
   "outputs": [],
   "source": [
    "p = scatter(dN.weight, dN.height; xlims=xlims, ylims=ylims, label=false)\n",
    "title!(\"N = $N\"; xlab=\"weight\", ylab=\"height\")\n"
   ]
  },
  {
   "cell_type": "code",
   "execution_count": null,
   "id": "c74a507a-4675-41e0-9cde-f3aa341e21c8",
   "metadata": {},
   "outputs": [],
   "source": [
    "mN = sample(height_regr_model(dN.weight, dN.height), NUTS(), 1000);"
   ]
  },
  {
   "cell_type": "code",
   "execution_count": null,
   "id": "72e2cbe5-1386-4b2e-a331-12df1858556e",
   "metadata": {},
   "outputs": [],
   "source": [
    "# sample 20 values of α and β from the posterior\n",
    "samplesN = sample(mN, 20);\n",
    "samplesN_df = DataFrame(samplesN)"
   ]
  },
  {
   "cell_type": "code",
   "execution_count": null,
   "id": "16152076-150d-4a9e-ad97-df4743f644b1",
   "metadata": {},
   "outputs": [],
   "source": [
    "for (α_, β_) ∈ zip(samplesN_df.α, samplesN_df.β)\n",
    "    plot!(x -> α_ + β_ * (x-x̄N); c=\"black\", alpha=0.3, legend=false)\n",
    "end\n",
    "display(p)"
   ]
  },
  {
   "cell_type": "code",
   "execution_count": null,
   "id": "e28e64a3-efe2-442b-b991-7104c8522bd9",
   "metadata": {},
   "outputs": [],
   "source": [
    "# Let's change the sample size to a different value to explore posterior distributions of α and β\n",
    "N = 100\n",
    "dN = d2[1:N,:];\n",
    "\n",
    "x̄N = mean(dN.weight)\n",
    "\n",
    "mN = sample(height_regr_model(dN.weight, dN.height), NUTS(), 1000);\n",
    "\n",
    "# sample 20 values of α and β from the posterior\n",
    "samplesN = sample(mN, 20);\n",
    "samplesN_df = DataFrame(samplesN);\n",
    "\n",
    "p = scatter(dN.weight, dN.height; xlims=xlims, ylims=ylims, label=false);\n",
    "title!(\"N = $N\"; xlab=\"weight\", ylab=\"height\");\n",
    "\n",
    "x̄N = mean(dN.weight);\n",
    "for (α_, β_) ∈ zip(samplesN_df.α, samplesN_df.β)\n",
    "    plot!(x -> α_ + β_ * (x-x̄N); c=\"black\", alpha=0.3, legend=false)\n",
    "end\n",
    "display(p)\n"
   ]
  },
  {
   "cell_type": "code",
   "execution_count": null,
   "id": "c93757af-4cf8-47b6-be56-227c28fa94d3",
   "metadata": {},
   "outputs": [],
   "source": [
    "# Let's now go back to our original posterior distribution obtained from all the adult data and take 1000 samples\n",
    "samples = sample(m, 1000);\n",
    "samples_df = DataFrame(samples)\n"
   ]
  },
  {
   "cell_type": "code",
   "execution_count": null,
   "id": "7f18eea0-dfad-4e29-9a78-e8f8c1d635c7",
   "metadata": {},
   "outputs": [],
   "source": [
    "# posterior distribution of μ for one particular value of weight\n",
    "μ_at_50 =  samples_df.α .+ samples_df.β * (50 - x̄);\n",
    "density(μ_at_50; lw=2, xlab=\"μ|weight=50\")"
   ]
  },
  {
   "cell_type": "code",
   "execution_count": null,
   "id": "fed12e22-3cdb-470b-a8ac-ddb5ccc03321",
   "metadata": {},
   "outputs": [],
   "source": [
    "# now do the same for all weight values in the data\n",
    "\n",
    "μ = zeros(1000, 352);\n",
    "\n",
    "for i in 1:1000\n",
    "    for j in 1:352\n",
    "        μ[i,j] = samples_df.α[i] + samples_df.β[i] * (d2.weight[j] - x̄)\n",
    "    end\n",
    "end\n",
    "\n",
    "μ"
   ]
  },
  {
   "cell_type": "code",
   "execution_count": null,
   "id": "c5f22644-45bf-49b0-9197-5baeb4d78bec",
   "metadata": {},
   "outputs": [],
   "source": [
    "# a fancier way to do the same\n",
    "μ = map(w -> samples_df.α + samples_df.β * (w - x̄), d2.weight);\n",
    "\n",
    "# 352-element vector where each element is a vector of 1000 elements\n",
    "# these 1000 elements are obtained from 1000 combinations of α and β sampled from the posterior\n",
    "\n",
    "μ = hcat(μ...) # turn the above array into 1000 x 352 matrix"
   ]
  },
  {
   "cell_type": "code",
   "execution_count": null,
   "id": "fc387e54-755c-47d4-af63-1fa66dfee570",
   "metadata": {},
   "outputs": [],
   "source": [
    "# plot the first 100 values of μ\n",
    "p = plot()\n",
    "for i in 1:100\n",
    "    scatter!(d2.weight, μ[i,:]; c=:blue, alpha=0.2, label=false)\n",
    "end\n",
    "display(p)"
   ]
  },
  {
   "cell_type": "code",
   "execution_count": null,
   "id": "b9972050-5d1c-42ae-8638-76d39e742325",
   "metadata": {},
   "outputs": [],
   "source": [
    "# Now, consider μ for a defined weight sequence (not the weight values from the data)\n",
    "weight_seq = 25:70"
   ]
  },
  {
   "cell_type": "code",
   "execution_count": null,
   "id": "30646893-95e0-414a-8fa7-eb96ad2826ca",
   "metadata": {},
   "outputs": [],
   "source": [
    "μ_seq = zeros(1000, length(weight_seq));\n",
    "\n",
    "for i in 1:1000\n",
    "    for j in 1:length(weight_seq)\n",
    "        μ_seq[i,j] = samples_df.α[i] + samples_df.β[i] * (weight_seq[j] - x̄)\n",
    "    end\n",
    "end\n",
    "\n",
    "μ_seq"
   ]
  },
  {
   "cell_type": "code",
   "execution_count": null,
   "id": "7d6789b2-651b-4116-8dd8-df6258c9f5a8",
   "metadata": {},
   "outputs": [],
   "source": [
    "μ_seq_mean = zeros(length(weight_seq));\n",
    "μ_seq_CI = zeros(length(weight_seq),2);\n",
    "\n",
    "for j in 1:length(weight_seq)  # mean and credible interval for each column (each value of weight)\n",
    "    μ_seq_mean[j] = mean(μ_seq[:,j])\n",
    "    μ_seq_CI[j,:] = CI(μ_seq[:,j])\n",
    "end"
   ]
  },
  {
   "cell_type": "code",
   "execution_count": null,
   "id": "b3f7b094-6dba-4923-9afa-db8984c6cd8a",
   "metadata": {},
   "outputs": [],
   "source": [
    "# a fancier way to do the same\n",
    "μ_seq = map(w -> samples_df.α + samples_df.β * (w - x̄), weight_seq)\n",
    "μ_seq = hcat(μ_seq...)\n",
    "\n",
    "μ_seq_mean = mean.(eachcol(μ_seq))\n",
    "μ_seq_CI = CI.(eachcol(μ_seq))\n",
    "μ_seq_CI = vcat(μ_seq_CI'...) # convert vector of vector into 46x2 matrix"
   ]
  },
  {
   "cell_type": "code",
   "execution_count": null,
   "id": "489d00d2-ad78-4cf9-b474-7722cbea3e84",
   "metadata": {},
   "outputs": [],
   "source": [
    "μ_seq_CI"
   ]
  },
  {
   "cell_type": "code",
   "execution_count": null,
   "id": "a0742e86-1230-44f2-9cd9-86d17c24bf5c",
   "metadata": {},
   "outputs": [],
   "source": [
    "scatter(d2.weight, d2.height; alpha=0.2, xlab=\"weight\", ylab=\"height\")\n",
    "plot!(weight_seq, μ_seq_mean; c=:black)\n",
    "plot!(weight_seq, [μ_seq_mean μ_seq_mean]; c=:black, fillrange=μ_seq_CI, fillalpha=0.3, label=false)"
   ]
  },
  {
   "cell_type": "code",
   "execution_count": null,
   "id": "0d592ea9-da7e-4087-b137-a9427eb4ac54",
   "metadata": {},
   "outputs": [],
   "source": [
    "# We now do the similar simulation while including the effect of σ on the posterior distribution\n",
    "sim_height = map(w -> rand.(Normal.(samples_df.α + samples_df.β * (w - x̄), samples_df.σ)), weight_seq)\n",
    "sim_height = hcat(sim_height...);\n",
    "\n",
    "height_CI = CI.(eachcol(sim_height))\n",
    "height_CI = vcat(height_CI'...);\n",
    "\n",
    "plot!(weight_seq, [μ_seq_mean μ_seq_mean]; c=:black, fillrange=height_CI, fillalpha=0.3)\n"
   ]
  },
  {
   "cell_type": "code",
   "execution_count": null,
   "id": "575e4124-2962-4b6a-ba1d-3117601a8db0",
   "metadata": {},
   "outputs": [],
   "source": []
  }
 ],
 "metadata": {
  "kernelspec": {
   "display_name": "Julia 1.10.2",
   "language": "julia",
   "name": "julia-1.10"
  },
  "language_info": {
   "file_extension": ".jl",
   "mimetype": "application/julia",
   "name": "julia",
   "version": "1.10.2"
  }
 },
 "nbformat": 4,
 "nbformat_minor": 5
}
