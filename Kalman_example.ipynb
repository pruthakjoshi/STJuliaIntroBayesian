{
 "cells": [
  {
   "cell_type": "code",
   "execution_count": 1,
   "id": "5ca70539-5879-4105-8c37-9a88024cd0e7",
   "metadata": {},
   "outputs": [],
   "source": [
    "include(\"./ST_Kalman_S.jl\")\n",
    "using .KalmanFilter\n",
    "using LinearAlgebra"
   ]
  },
  {
   "cell_type": "code",
   "execution_count": 2,
   "id": "a31160e3-6dda-449f-a2a5-e113fc02faf4",
   "metadata": {},
   "outputs": [
    {
     "data": {
      "text/plain": [
       "6×6 Matrix{Float64}:\n",
       " 0.0001  0.0     0.0     0.0     0.0     0.0\n",
       " 0.0     0.0001  0.0     0.0     0.0     0.0\n",
       " 0.0     0.0     0.0001  0.0     0.0     0.0\n",
       " 0.0     0.0     0.0     0.0001  0.0     0.0\n",
       " 0.0     0.0     0.0     0.0     0.0001  0.0\n",
       " 0.0     0.0     0.0     0.0     0.0     0.0001"
      ]
     },
     "execution_count": 2,
     "metadata": {},
     "output_type": "execute_result"
    }
   ],
   "source": [
    "# example for 2nd order linear Kalman filter\n",
    "# x = [x1 x2 x1dot x2dot x1dotdot x2dotdot]\n",
    "# measurements are done for x1, x2, x1dotdot, and x2dotdot\n",
    "\n",
    "x_0 = zeros(6, 1)\n",
    "\n",
    "Σ_0 = Matrix{Float64}(I, 6, 6) .* 1000\n",
    "\n",
    "Δ_t = 0.1\n",
    "\n",
    "A = [1 0 Δ_t 0 0.5*Δ_t^2 0;\n",
    "    0 1 0 Δ_t 0 0.5*Δ_t^2;\n",
    "    0 0 1 0 Δ_t 0;\n",
    "    0 0 0 1 0 Δ_t;\n",
    "    0 0 0 0 1 0;\n",
    "    0 0 0 0 0 1]\n",
    "\n",
    "H = [1 0 0 0 0 0;\n",
    "    0 1 0 0 0 0;\n",
    "    0 0 0 0 1 0;\n",
    "    0 0 0 0 0 1]\n",
    "\n",
    "R = [2 0 0 0;\n",
    "    0 10 0 0;\n",
    "    0 0 0.4 0;\n",
    "    0 0 0 0.4]\n",
    "\n",
    "Q = Matrix{Float64}(I, 6, 6) * 0.0001\n"
   ]
  },
  {
   "cell_type": "code",
   "execution_count": 3,
   "id": "9bf671d1-7a05-4624-931d-3a26d40fb59d",
   "metadata": {},
   "outputs": [
    {
     "data": {
      "text/plain": [
       "Kalman([1.0 0.0 … 0.005000000000000001 0.0; 0.0 1.0 … 0.0 0.005000000000000001; … ; 0.0 0.0 … 1.0 0.0; 0.0 0.0 … 0.0 1.0], [0.0001 0.0 … 0.0 0.0; 0.0 0.0001 … 0.0 0.0; … ; 0.0 0.0 … 0.0001 0.0; 0.0 0.0 … 0.0 0.0001], [1 0 … 0 0; 0 1 … 0 0; 0 0 … 1 0; 0 0 … 0 1], [2.0 0.0 0.0 0.0; 0.0 10.0 0.0 0.0; 0.0 0.0 0.4 0.0; 0.0 0.0 0.0 0.4], [0.0; 0.0; … ; 0.0; 0.0;;], [1000.0 0.0 … 0.0 0.0; 0.0 1000.0 … 0.0 0.0; … ; 0.0 0.0 … 1000.0 0.0; 0.0 0.0 … 0.0 1000.0])"
      ]
     },
     "execution_count": 3,
     "metadata": {},
     "output_type": "execute_result"
    }
   ],
   "source": [
    "filter = KalmanFilter.Kalman(A, Q, H, R, x_0, Σ_0)"
   ]
  },
  {
   "cell_type": "code",
   "execution_count": 4,
   "id": "63a949fa-cfb8-40e2-a7f8-adbb4bd03186",
   "metadata": {},
   "outputs": [
    {
     "data": {
      "text/plain": [
       "6×4×2 Array{Float64, 3}:\n",
       "[:, :, 1] =\n",
       " 0.0  0.0  0.0  0.0\n",
       " 0.0  0.0  0.0  0.0\n",
       " 0.0  0.0  0.0  0.0\n",
       " 0.0  0.0  0.0  0.0\n",
       " 0.0  0.0  0.0  0.0\n",
       " 0.0  0.0  0.0  0.0\n",
       "\n",
       "[:, :, 2] =\n",
       " 0.0  0.0  0.0  0.0\n",
       " 0.0  0.0  0.0  0.0\n",
       " 0.0  0.0  0.0  0.0\n",
       " 0.0  0.0  0.0  0.0\n",
       " 0.0  0.0  0.0  0.0\n",
       " 0.0  0.0  0.0  0.0"
      ]
     },
     "execution_count": 4,
     "metadata": {},
     "output_type": "execute_result"
    }
   ],
   "source": [
    "n = 2  # number of measurement data\n",
    "\n",
    "predicted = zeros(Float64, 6, n)\n",
    "updated = zeros(Float64, 6, n)\n",
    "covariances = zeros(Float64, 6, 6, n)\n",
    "gains = zeros(Float64, 6, 4, n)\n"
   ]
  },
  {
   "cell_type": "code",
   "execution_count": 5,
   "id": "31df58bd-9017-4fbb-8107-66a46abad7f4",
   "metadata": {},
   "outputs": [],
   "source": [
    "for i in 1:n # = eachrow(data)    \n",
    "\n",
    "    y_cur = [1 1 1 1]' # should be replaced with the measurement data in each time step\n",
    "\n",
    "    filter_next = KalmanFilter.next(filter, y_cur)\n",
    "    \n",
    "    predicted[:, i] = filter_next.predicted\n",
    "    updated[:, i] = filter_next.updated\n",
    "    covariances[:,:,i] = filter_next.cov\n",
    "    gains[:,:,i] = filter_next.gain\n",
    "    \n",
    "    filter = filter_next.filter  # use recursion\n",
    "\n",
    "end"
   ]
  },
  {
   "cell_type": "code",
   "execution_count": null,
   "id": "6432b148-f4d1-49bc-8d4a-ed571f8207b4",
   "metadata": {},
   "outputs": [],
   "source": []
  }
 ],
 "metadata": {
  "kernelspec": {
   "display_name": "Julia 1.10.2",
   "language": "julia",
   "name": "julia-1.10"
  },
  "language_info": {
   "file_extension": ".jl",
   "mimetype": "application/julia",
   "name": "julia",
   "version": "1.10.2"
  }
 },
 "nbformat": 4,
 "nbformat_minor": 5
}
