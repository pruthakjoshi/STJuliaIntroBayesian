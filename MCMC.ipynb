{
 "cells": [
  {
   "cell_type": "code",
   "execution_count": null,
   "id": "87c618a8-604f-4bb2-aab9-5269e475f4f2",
   "metadata": {},
   "outputs": [],
   "source": [
    "using Random\n",
    "using StatsBase\n",
    "using Distributions\n",
    "using StatsPlots\n",
    "using StatsFuns\n",
    "\n",
    "using Turing\n",
    "using CSV\n",
    "using DataFrames\n",
    "using Optim"
   ]
  },
  {
   "cell_type": "markdown",
   "id": "d4c08efa-2e10-4858-a95c-46fd1eeab141",
   "metadata": {
    "editable": true,
    "slideshow": {
     "slide_type": ""
    },
    "tags": []
   },
   "source": [
    "## 9.1 Good King Markov and His Island Kingdom"
   ]
  },
  {
   "cell_type": "code",
   "execution_count": null,
   "id": "4be96d5d-89c3-4bfb-9679-ffe431d5f10d",
   "metadata": {},
   "outputs": [],
   "source": [
    "Random.seed!(1)\n",
    "num_weeks = 10^5\n",
    "positions = []\n",
    "current = 10\n",
    "\n",
    "for i ∈ 1:num_weeks\n",
    "    \n",
    "    # record current position\n",
    "    push!(positions, current)\n",
    "    \n",
    "    # flip coin to generate proposal\n",
    "    proposal = current + sample([-1, 1])\n",
    "    \n",
    "    # handle loops around\n",
    "    proposal < 1 && (proposal = 10)\n",
    "    proposal > 10 && (proposal = 1)\n",
    "    \n",
    "    # move?\n",
    "    prob_move = proposal / current\n",
    "    if (rand() < prob_move) current = proposal end\n",
    "    \n",
    "end"
   ]
  },
  {
   "cell_type": "code",
   "execution_count": null,
   "id": "dd5068fe-2346-4101-ac07-db3cc9c5ef62",
   "metadata": {},
   "outputs": [],
   "source": [
    "scatter(positions[1:100], xlab=\"week\", ylab=\"island\")"
   ]
  },
  {
   "cell_type": "code",
   "execution_count": null,
   "id": "43a97f5a-2426-4416-866c-392394b3e59b",
   "metadata": {},
   "outputs": [],
   "source": [
    "histogram(positions, xlab=\"island\", ylab=\"number of weeks\")"
   ]
  },
  {
   "cell_type": "markdown",
   "id": "b41ed08e-d55c-453b-834c-4513d6a85440",
   "metadata": {},
   "source": [
    "## 9.2 Metropolis algorithms"
   ]
  },
  {
   "cell_type": "code",
   "execution_count": null,
   "id": "f11f1afc-ce49-4e58-a999-add18384f6dd",
   "metadata": {},
   "outputs": [],
   "source": [
    "D = 5\n",
    "T = 1000\n",
    "Y = rand(MvNormal(zeros(D), ones(D)), T)\n",
    "Rd = sqrt.(sum.(eachcol(Y.^2)))\n",
    "density(Rd)\n",
    "# As the dimension (D) increases, we end up sampling further and further away from the peak in the distribution (Y=0)"
   ]
  },
  {
   "cell_type": "markdown",
   "id": "3e8390cf-7e59-4912-9a45-ae70c6eeec6e",
   "metadata": {},
   "source": [
    "## 9.3 Hamiltonian Monte Carlo"
   ]
  },
  {
   "cell_type": "code",
   "execution_count": null,
   "id": "a6cc7de0-2b6d-492a-958a-52ab33bb9ecb",
   "metadata": {},
   "outputs": [],
   "source": [
    "# Let's use a simple case of a bivariate normal distribution\n",
    "\n",
    "Random.seed!(7)\n",
    "\n",
    "x = rand(Normal(), 50)\n",
    "y = rand(Normal(), 50)\n",
    "x = standardize(ZScoreTransform, x)\n",
    "y = standardize(ZScoreTransform, y);"
   ]
  },
  {
   "cell_type": "code",
   "execution_count": null,
   "id": "ac89d2b9-fad3-43de-aa75-f6e9b3363131",
   "metadata": {},
   "outputs": [],
   "source": [
    "function U(q::Vector{Float64}; a=0, b=0.5, k=0, d=0.5)::Float64\n",
    "    μx, μy = q\n",
    "    U = sum(normlogpdf.(μx, 1, x)) + sum(normlogpdf.(μy, 1, y)) \n",
    "    U += normlogpdf(a, b, μx) + normlogpdf(k, d, μy)\n",
    "    -U\n",
    "end\n",
    "\n",
    "function ∇U(q::Vector{Float64}; a=0, b=0.5, k=0, d=0.5)::Vector{Float64}\n",
    "    μx, μy = q\n",
    "    G₁ = sum(x .- μx) / 1^2 + (a - μx) / b^2  # ∂U/∂μx\n",
    "    G₂ = sum(y .- μy) / 1^2 + (k - μy) / d^2  # ∂U/∂μy\n",
    "    [-G₁, -G₂]\n",
    "end\n",
    "\n",
    "\n",
    "function HMC2(U, ∇U, ϵ::Float64, L::Int, current_q::Vector{Float64})\n",
    "\n",
    "    q = current_q\n",
    "    p = rand(Normal(), length(q))  # random flick - p is momentum\n",
    "    current_p = p\n",
    "    \n",
    "    # make a half step for momentum at the beginning\n",
    "    p -= ϵ * ∇U(q) / 2\n",
    "    \n",
    "    # initialize bookkeeping - saves trajectory\n",
    "    qtraj = [q]\n",
    "    ptraj = [p]\n",
    "    \n",
    "    # Alternate full steps for position and momentum\n",
    "    for i ∈ 1:L\n",
    "        q = q .+ ϵ * p  # full step for the position\n",
    "        # make a full step for the momentum except at the end of trajectory\n",
    "        if i != L\n",
    "            p -= ϵ * ∇U(q)\n",
    "            push!(ptraj, p)\n",
    "        end\n",
    "        push!(qtraj, q)\n",
    "    end\n",
    "    \n",
    "    # Make a half step for momentum at the end\n",
    "    p -= ϵ * ∇U(q) / 2\n",
    "    push!(ptraj, p)\n",
    "    \n",
    "    # negate momentum at the end of trajectory to make the proposal symmetric\n",
    "    p = -p\n",
    "    \n",
    "    # evaluate potential and kinetic energies at the start and the end of trajectory\n",
    "    current_U = U(current_q)\n",
    "    current_K = sum(current_p.^2)/2\n",
    "    proposed_U = U(q)\n",
    "    proposed_K = sum(p.^2)/2\n",
    "    \n",
    "    # accept or reject the state at the end of trajectory \n",
    "    # based in part on whether the total energy conservation is valid,\n",
    "    # returning either the position at the end of the trajectory or the initial position\n",
    "    accept = (rand() < exp(current_U + current_K - proposed_U - proposed_K))\n",
    "\n",
    "    if accept\n",
    "        current_q = q\n",
    "    end\n",
    "    \n",
    "    (q=current_q, traj=qtraj, ptraj=ptraj, accept=accept)\n",
    "\n",
    "end"
   ]
  },
  {
   "cell_type": "code",
   "execution_count": null,
   "id": "fcd2d721-780c-4400-a9ea-5356779ed0c7",
   "metadata": {},
   "outputs": [],
   "source": [
    "Random.seed!(1)\n",
    "Q = (q=[-0.1, 0.2],)  # initialize Q.q.  Note that Q is an array of named tuples generated from HMC2\n",
    "\n",
    "step = 0.03\n",
    "L = 11\n",
    "\n",
    "n_samples = 4\n",
    "\n",
    "plot_mu = scatter([Q.q[1]], [Q.q[2]], xlab=\"μx\", ylab=\"μy\", label = false)\n"
   ]
  },
  {
   "cell_type": "code",
   "execution_count": null,
   "id": "83a4b99d-97dd-49f9-9e92-bd34053392a5",
   "metadata": {},
   "outputs": [],
   "source": [
    "\n",
    "for i ∈ 1:n_samples\n",
    "    Q = HMC2(U, ∇U, step, L, Q.q)\n",
    "    if n_samples < 10 \n",
    "        cx, cy = [], []\n",
    "        for j ∈ 1:L\n",
    "            K0 = sum(Q.ptraj[j].^2)/2  # kinetic energy\n",
    "            plot!(\n",
    "                [Q.traj[j][1], Q.traj[j+1][1]],\n",
    "                [Q.traj[j][2], Q.traj[j+1][2]],\n",
    "                lw=1+2*K0,  # line width is proportional to kinetic energy\n",
    "                c=:black,\n",
    "                alpha=0.5,\n",
    "                label=false\n",
    "            )\n",
    "            push!(cx, Q.traj[j+1][1])\n",
    "            push!(cy, Q.traj[j+1][2])\n",
    "        end\n",
    "        scatter!(cx, cy, c=:white, ms=3, label = false)\n",
    "    end\n",
    "    scatter!([Q.q[1]], [Q.q[2]], shape=(Q.accept ? :circle : :rect), c=:blue, label = false)\n",
    "end\n",
    "plot_mu"
   ]
  },
  {
   "cell_type": "code",
   "execution_count": null,
   "id": "f4f4aabe-9d80-4135-ac7c-9238626181fa",
   "metadata": {},
   "outputs": [],
   "source": []
  }
 ],
 "metadata": {
  "kernelspec": {
   "display_name": "Julia 1.10.2",
   "language": "julia",
   "name": "julia-1.10"
  },
  "language_info": {
   "file_extension": ".jl",
   "mimetype": "application/julia",
   "name": "julia",
   "version": "1.10.2"
  }
 },
 "nbformat": 4,
 "nbformat_minor": 5
}
