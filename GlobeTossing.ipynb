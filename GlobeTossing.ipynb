{
 "cells": [
  {
   "cell_type": "code",
   "execution_count": null,
   "id": "3c79b273-1b8f-4e46-b693-9a9762ae7454",
   "metadata": {},
   "outputs": [],
   "source": [
    "using Distributions\n",
    "using StatsPlots\n",
    "using Turing"
   ]
  },
  {
   "cell_type": "code",
   "execution_count": null,
   "id": "9e5364f9-82e9-4587-a6ff-eafde78cb81f",
   "metadata": {},
   "outputs": [],
   "source": [
    "# globe tossing\n",
    "\n",
    "# Grid approximation\n",
    "size = 50\n",
    "θ_grid = range(0, 1; length=size)\n",
    "\n",
    "# uniform prior (alpha = 1, beta = 1)\n",
    "prior = pdf.(Beta(1,1), θ_grid) # prior is for θ\n",
    "plot(θ_grid, prior; ylims=[0, 2.5], label = \"prior\", xlabel=\"fraction of water\", ylabel=\"probability\", title=\"$size points\", markershape=:circle)\n"
   ]
  },
  {
   "cell_type": "code",
   "execution_count": null,
   "id": "372707f6-7257-48d2-aec8-48bcf7e2e131",
   "metadata": {},
   "outputs": [],
   "source": [
    "# first tossing: W \n",
    "\n",
    "likelihood = [ θ for θ in θ_grid ]  # likelihood is for W (probability to get W)\n",
    "\n",
    "posterior_unstandardized = likelihood .* prior\n",
    "posterior = posterior_unstandardized / sum(posterior_unstandardized) * size\n",
    "\n",
    "plot!(θ_grid, posterior; label = \"W\", markershape=:utriangle)\n"
   ]
  },
  {
   "cell_type": "code",
   "execution_count": null,
   "id": "cf27ede3-bff4-4c75-a6a2-33a2dac0329e",
   "metadata": {},
   "outputs": [],
   "source": [
    "# second tossing: L \n",
    "\n",
    "prior = posterior  # the posterior from the previous step is now the prior\n",
    "likelihood = [ 1-θ for θ in θ_grid ]\n",
    "\n",
    "posterior_unstandardized = likelihood .* prior\n",
    "posterior = posterior_unstandardized / sum(posterior_unstandardized) * size\n",
    "\n",
    "plot!(θ_grid, posterior; label = \"WL\", markershape=:ltriangle)\n"
   ]
  },
  {
   "cell_type": "code",
   "execution_count": null,
   "id": "859d7de5-b3ab-4085-ae7d-83b8f0ebbbe8",
   "metadata": {},
   "outputs": [],
   "source": [
    "# third tossing: W \n",
    "\n",
    "prior = posterior  # the posterior from the previous step is now the prior\n",
    "likelihood = [ θ for θ in θ_grid ]\n",
    "\n",
    "posterior_unstandardized = likelihood .* prior\n",
    "posterior = posterior_unstandardized / sum(posterior_unstandardized) * size\n",
    "\n",
    "plot!(θ_grid, posterior; label = \"WLW\", markershape=:rtriangle)\n"
   ]
  },
  {
   "cell_type": "code",
   "execution_count": null,
   "id": "901ac8df-ed2a-40b0-b1e7-96997e4dcc0a",
   "metadata": {},
   "outputs": [],
   "source": [
    "# fourth tossing: W \n",
    "\n",
    "prior = posterior   # the posterior from the previous step is now the prior\n",
    "likelihood = [ θ for θ in θ_grid ]\n",
    "\n",
    "posterior_unstandardized = likelihood .* prior\n",
    "posterior = posterior_unstandardized / sum(posterior_unstandardized) * size\n",
    "\n",
    "plot!(θ_grid, posterior; label = \"WLWW\", markershape=:rect, markercolor=:red)\n"
   ]
  },
  {
   "cell_type": "code",
   "execution_count": null,
   "id": "c3f56a20-7944-48ce-bd76-b8ef1ee7b86a",
   "metadata": {},
   "outputs": [],
   "source": [
    "# We can check each of the steps using the analytic solution\n",
    "# first tossing W\n",
    "analytic = Beta(1+1, 1+0))  #(W = 1, L = 0)\n",
    "plot!(θ_grid, pdf.(analytic, θ_grid); linestyle = :dash)"
   ]
  },
  {
   "cell_type": "code",
   "execution_count": null,
   "id": "4546015f-f6dd-4e1b-aa44-25ee4550bd01",
   "metadata": {},
   "outputs": [],
   "source": [
    "# second tossing L\n",
    "analytic = Beta(1+1, 1+1))  #(W = 1, L = 1)\n",
    "plot!(θ_grid, pdf.(analytic, θ_grid); linestyle = :dash)\n"
   ]
  },
  {
   "cell_type": "code",
   "execution_count": null,
   "id": "27de0679-c53c-4212-a270-e2dabe9f5340",
   "metadata": {},
   "outputs": [],
   "source": [
    "# third tossing W\n",
    "analytic = Beta(1+2, 1+1))  #(W = 2, L = 1)\n",
    "plot!(θ_grid, pdf.(analytic, θ_grid); linestyle = :dash)\n"
   ]
  },
  {
   "cell_type": "code",
   "execution_count": null,
   "id": "e2157411-6ac0-43a9-8881-7ff38c095c9d",
   "metadata": {},
   "outputs": [],
   "source": [
    "# fourth tossing W\n",
    "analytic = Beta(1+3, 1+1) # (W = 3, L = 1)\n",
    "plot!(θ_grid, pdf.(analytic, θ_grid); linestyle = :dash)"
   ]
  },
  {
   "cell_type": "code",
   "execution_count": null,
   "id": "5d40d90d-c521-441b-868b-a40a4f17c689",
   "metadata": {},
   "outputs": [],
   "source": [
    "# Bayesian update using all the data at the same time\n",
    "#  WLWW\n",
    "\n",
    "prior = pdf.(Beta(1,1), θ_grid)\n",
    "likelihood = [ pdf(Binomial(4, θ), 3) for θ in θ_grid]\n",
    "\n",
    "posterior_unstandardized = likelihood .* prior\n",
    "posterior = posterior_unstandardized / sum(posterior_unstandardized) * size\n",
    "\n",
    "plot!(θ_grid, posterior; markershape=:rect)\n",
    "\n",
    "\n",
    "analytic = Beta(1+3, 1+(4-3))\n",
    "plot(θ_grid, pdf.(analytic, θ_grid); label = \"Update at once\", linestyle = :dash)\n"
   ]
  },
  {
   "cell_type": "code",
   "execution_count": null,
   "id": "4c96eef4-a949-457b-b3ff-12163dfeca19",
   "metadata": {},
   "outputs": [],
   "source": [
    "# Using MCMC\n",
    "@model function water_land(W, L)\n",
    "    θ ~ Uniform(0, 1)  # prior # same as Beta(1,1)\n",
    "    W ~ Binomial(W + L, θ) # likelihood\n",
    "end\n",
    "\n",
    "chain = sample(water_land(4, 1), NUTS(), 1000)\n",
    "display(chain)\n",
    "plot(chain)\n",
    "histogram(chain[:θ]; label=\"Turing MCMC\")"
   ]
  },
  {
   "cell_type": "code",
   "execution_count": null,
   "id": "c15f597b-4046-4b27-b2eb-c0f170ee9604",
   "metadata": {},
   "outputs": [],
   "source": []
  }
 ],
 "metadata": {
  "kernelspec": {
   "display_name": "Julia 1.10.2",
   "language": "julia",
   "name": "julia-1.10"
  },
  "language_info": {
   "file_extension": ".jl",
   "mimetype": "application/julia",
   "name": "julia",
   "version": "1.10.2"
  }
 },
 "nbformat": 4,
 "nbformat_minor": 5
}
